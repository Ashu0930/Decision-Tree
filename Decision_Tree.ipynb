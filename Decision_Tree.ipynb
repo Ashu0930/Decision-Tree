{
  "nbformat": 4,
  "nbformat_minor": 0,
  "metadata": {
    "colab": {
      "provenance": []
    },
    "kernelspec": {
      "name": "python3",
      "display_name": "Python 3"
    },
    "language_info": {
      "name": "python"
    }
  },
  "cells": [
    {
      "cell_type": "markdown",
      "source": [
        "# **Decision Tree**"
      ],
      "metadata": {
        "id": "CdWxc0C7078r"
      }
    },
    {
      "cell_type": "markdown",
      "source": [
        "**1. What is a Decision Tree, and how does it work ?**"
      ],
      "metadata": {
        "id": "Y90lvFog1Dhr"
      }
    },
    {
      "cell_type": "markdown",
      "source": [
        "-> A Decision Tree is a supervised machine learning algorithm used for both classification and regression tasks. It works by splitting data into subsets based on feature values, forming a tree-like structure where each node represents a decision based on a feature, and each leaf represents an outcome or prediction."
      ],
      "metadata": {
        "id": "dKssbEckLuev"
      }
    },
    {
      "cell_type": "markdown",
      "source": [
        "**2. What are impurity measures in Decision Trees ?**"
      ],
      "metadata": {
        "id": "FhygO_dEK5nZ"
      }
    },
    {
      "cell_type": "markdown",
      "source": [
        "-> In Decision Trees, impurity measures are used to determine how mixed or pure a node is. A pure node contains data points that all belong to the same class, while an impure node contains a mix of classes.\n",
        "\n",
        "Impurity measures guide the splitting decisions in the tree: the goal is to minimize impurity and create nodes that are as pure as possible."
      ],
      "metadata": {
        "id": "gtgydX_DL0jX"
      }
    },
    {
      "cell_type": "markdown",
      "source": [
        "**3. What is the mathematical formula for Gini Impurity\t?**\n"
      ],
      "metadata": {
        "id": "Fxi4GSN1K-G_"
      }
    },
    {
      "cell_type": "markdown",
      "source": [
        "-> The Gini Impurity formula is a way to measure the impurity or randomness of a set of data, especially in decision trees. For a binary classification problem, the formula is: G = 1 - (p² + (1-p)²), where 'p' is the probability of one class in a node."
      ],
      "metadata": {
        "id": "ivdk91PpMRm3"
      }
    },
    {
      "cell_type": "markdown",
      "source": [
        "**4. What is the mathematical formula for Entropy\t?**"
      ],
      "metadata": {
        "id": "xQ6OfKLgLBCO"
      }
    },
    {
      "cell_type": "markdown",
      "source": [
        "-> The mathematical formula for Entropy in a decision tree is:\n",
        "\n",
        "$$\n",
        "Entropy(t) = - \\sum_{i=1}^{C} p_i \\log_2(p_i)\n",
        "$$\n",
        "\n",
        "where p_i is the proportion of data points belonging to class i at node t, and C is the total number of classes. Entropy measures the disorder or impurity in a dataset. It is zero when the node is pure (all samples belong to one class), and higher when classes are evenly mixed. In practice, use Entropy when you want a more information-theoretic approach to measuring node purity. However, for speed and simplicity, Gini Impurity is often preferred since it avoids logarithmic calculations and performs similarly in most cases.\n"
      ],
      "metadata": {
        "id": "8BhB0BYGM2Me"
      }
    },
    {
      "cell_type": "markdown",
      "source": [
        "**5. What is Information Gain, and how is it used in Decision Trees\t?**"
      ],
      "metadata": {
        "id": "M8XDMfcJLD1H"
      }
    },
    {
      "cell_type": "markdown",
      "source": [
        "-> Information Gain measures how much uncertainty in a dataset is reduced after splitting it using a specific feature. It is calculated as the difference between the entropy before and after the split. In decision trees (like ID3), the feature with the highest Information Gain is chosen to split the data, helping build a tree that best separates the classes at each step."
      ],
      "metadata": {
        "id": "KfBV6cgnNrGj"
      }
    },
    {
      "cell_type": "markdown",
      "source": [
        "**6. What is the difference between Gini Impurity and Entropy ?**"
      ],
      "metadata": {
        "id": "izzm6FbZLGCQ"
      }
    },
    {
      "cell_type": "markdown",
      "source": [
        "-> Gini Impurity and Entropy are both measures of node impurity used in decision trees to decide the best feature to split on. Gini measures the chance of incorrect classification, while Entropy measures the level of disorder or uncertainty in the node. Though both generally lead to similar results, Gini is faster to compute and is often used in practice (like in the CART algorithm), while Entropy provides a more theoretical approach rooted in information theory. The choice between them usually comes down to preference or computational considerations."
      ],
      "metadata": {
        "id": "A6Ow2qIBNu1e"
      }
    },
    {
      "cell_type": "markdown",
      "source": [
        "**7. What is the mathematical explanation behind Decision Trees ?**"
      ],
      "metadata": {
        "id": "hTNFwrG1LIeH"
      }
    },
    {
      "cell_type": "markdown",
      "source": [
        "-> The mathematical foundation of decision trees lies in recursively partitioning the data using feature-based splits that maximize homogeneity within subsets. For classification, this is achieved using impurity measures like Gini or Entropy, and for regression, variance reduction is used. At each node, the feature and threshold that yield the greatest information gain or least impurity are selected, continuing this process until stopping conditions are met. The final model makes predictions based on the structure of this learned tree."
      ],
      "metadata": {
        "id": "VWdFo7BQN4mu"
      }
    },
    {
      "cell_type": "markdown",
      "source": [
        "**8. What is Pre-Pruning in Decision Trees ?**"
      ],
      "metadata": {
        "id": "fnHZ5sH3LK_O"
      }
    },
    {
      "cell_type": "markdown",
      "source": [
        "-> Pre-pruning is a method used to stop the growth of a decision tree early by applying constraints like maximum depth or minimum number of samples. This helps reduce overfitting, improves generalization, and keeps the model simpler and faster to interpret."
      ],
      "metadata": {
        "id": "ObHEMPL4OGot"
      }
    },
    {
      "cell_type": "markdown",
      "source": [
        "**9. What is Post-Pruning in Decision Trees\t?**"
      ],
      "metadata": {
        "id": "mivNd7g_LNIo"
      }
    },
    {
      "cell_type": "markdown",
      "source": [
        "-> Post-pruning grows the decision tree completely and then trims back branches that do not help with generalization. This reduces overfitting by simplifying the tree after it has learned the training data, often leading to a more accurate and interpretable model."
      ],
      "metadata": {
        "id": "swB7FClxOhRH"
      }
    },
    {
      "cell_type": "markdown",
      "source": [
        "**10. What is the difference between Pre-Pruning and Post-Pruning ?**"
      ],
      "metadata": {
        "id": "2VDj147oLPpy"
      }
    },
    {
      "cell_type": "markdown",
      "source": [
        "-> Pre-pruning stops tree growth early based on thresholds to avoid overfitting but risks missing useful splits.\n",
        "\n",
        "Post-pruning allows a full tree to grow and then prunes back unnecessary parts to improve generalization, often yielding better accuracy but at the cost of extra computation and the need for validation data."
      ],
      "metadata": {
        "id": "m97R_AdvO5TO"
      }
    },
    {
      "cell_type": "markdown",
      "source": [
        "**11. What is a Decision Tree Regressor\t?**"
      ],
      "metadata": {
        "id": "du_J5c-QLSdH"
      }
    },
    {
      "cell_type": "markdown",
      "source": [
        "-> A Decision Tree Regressor predicts continuous outputs by recursively splitting the data to minimize variance within subsets, making predictions at leaves by averaging the target values. It's a flexible, interpretable model useful for regression problems."
      ],
      "metadata": {
        "id": "EgzJhPyiO83V"
      }
    },
    {
      "cell_type": "markdown",
      "source": [
        "**12.  What are the advantages and disadvantages of Decision Trees\t?**"
      ],
      "metadata": {
        "id": "Fff_93-zLUxQ"
      }
    },
    {
      "cell_type": "markdown",
      "source": [
        "-> Decision trees are intuitive and flexible models that require minimal preprocessing and can handle a variety of data types. However, they tend to overfit and are sensitive to data variations, so careful tuning or using ensemble methods is often necessary for robust performance."
      ],
      "metadata": {
        "id": "wigl3TymPLU9"
      }
    },
    {
      "cell_type": "markdown",
      "source": [
        "**13. How does a Decision Tree handle missing values\t?**"
      ],
      "metadata": {
        "id": "VKLl9cbSLXw-"
      }
    },
    {
      "cell_type": "markdown",
      "source": [
        "-> Decision trees handle missing values by using surrogate splits (alternative features that mimic the primary split), assigning samples to the most common branch, or probabilistically distributing samples down branches. These approaches allow trees to remain flexible and robust even when data is incomplete."
      ],
      "metadata": {
        "id": "FRDNjTdQPR5W"
      }
    },
    {
      "cell_type": "markdown",
      "source": [
        "**14.  How does a Decision Tree handle categorical features ?**"
      ],
      "metadata": {
        "id": "eDi64_u9Lay3"
      }
    },
    {
      "cell_type": "markdown",
      "source": [
        "-> Decision trees handle categorical features by splitting nodes based on subsets of categories that best separate the target classes. Splits can be binary (grouping categories) or multi-way (each category gets its own branch), depending on the algorithm and implementation.\n",
        "\n",
        "- High-cardinality categorical features (features with many categories) can make splitting computationally expensive.\n",
        "\n",
        "- Some implementations encode categories numerically or use one-hot encoding before splitting, but this is not always necessary."
      ],
      "metadata": {
        "id": "XVd9YBCEPqck"
      }
    },
    {
      "cell_type": "markdown",
      "source": [
        "**15.  What are some real-world applications of Decision Trees ?**"
      ],
      "metadata": {
        "id": "dvDRZIxRLl8v"
      }
    },
    {
      "cell_type": "markdown",
      "source": [
        "-> Decision trees are widely used because they are easy to interpret and effective across many domains—from healthcare diagnostics and credit risk evaluation to marketing segmentation and predictive maintenance in manufacturing.\n",
        "\n",
        "1. Healthcare\n",
        "\n",
        "  - Diagnosing diseases based on symptoms and test results.\n",
        "\n",
        "  - Predicting patient outcomes or treatment effectiveness.\n",
        "\n",
        "2. Finance and Banking\n",
        "\n",
        "  - Credit scoring: Approving or rejecting loan applications.\n",
        "\n",
        "  - Fraud detection in transactions.\n",
        "\n",
        "3. Marketing and Sales\n",
        "\n",
        "  - Customer segmentation for targeted advertising.\n",
        "\n",
        "  - Predicting customer churn."
      ],
      "metadata": {
        "id": "_mQmP0J1Lqae"
      }
    },
    {
      "cell_type": "markdown",
      "source": [
        "# **Practical**"
      ],
      "metadata": {
        "id": "cUkJqIyTQti7"
      }
    },
    {
      "cell_type": "markdown",
      "source": [
        "**1. Write a Python program to train a Decision Tree Classifier on the Iris dataset and print the model accuracy.**"
      ],
      "metadata": {
        "id": "Qji-2t2YQzcW"
      }
    },
    {
      "cell_type": "code",
      "source": [
        "import lightgbm as lgb\n",
        "from sklearn.datasets import load_iris\n",
        "from sklearn.model_selection import train_test_split\n",
        "from sklearn.metrics import accuracy_score\n",
        "\n",
        "# Load data\n",
        "iris = load_iris()\n",
        "X, y = iris.data, iris.target\n",
        "\n",
        "# Train-test split\n",
        "X_train, X_test, y_train, y_test = train_test_split(X, y, test_size=0.2, random_state=42)\n",
        "\n",
        "# Create dataset for LightGBM\n",
        "train_data = lgb.Dataset(X_train, label=y_train)\n",
        "\n",
        "# Set parameters to make a simple tree (shallow)\n",
        "params = {\n",
        "    'objective': 'multiclass',\n",
        "    'num_class': 3,\n",
        "    'max_depth': 3,\n",
        "    'learning_rate': 1,  # High learning rate for single tree\n",
        "    'verbose': -1\n",
        "}\n",
        "\n",
        "# Train a single tree (boosting rounds = 1)\n",
        "bst = lgb.train(params, train_data, num_boost_round=1)\n",
        "\n",
        "# Predict\n",
        "y_pred = bst.predict(X_test)\n",
        "# Get class with highest probability\n",
        "y_pred_labels = y_pred.argmax(axis=1)\n",
        "\n",
        "# Accuracy\n",
        "print(f\"Accuracy: {accuracy_score(y_test, y_pred_labels):.2f}\")\n"
      ],
      "metadata": {
        "colab": {
          "base_uri": "https://localhost:8080/"
        },
        "id": "asOyfb0DRC5n",
        "outputId": "20b41982-8d98-43c9-8fb6-06b556f6d71e"
      },
      "execution_count": 1,
      "outputs": [
        {
          "output_type": "stream",
          "name": "stdout",
          "text": [
            "Accuracy: 1.00\n"
          ]
        }
      ]
    },
    {
      "cell_type": "markdown",
      "source": [
        "**2. Write a Python program to train a Decision Tree Classifier using Gini Impurity as the criterion and print the feature importances.**"
      ],
      "metadata": {
        "id": "uncd34hvRoc2"
      }
    },
    {
      "cell_type": "code",
      "source": [
        "# Load the Iris dataset\n",
        "iris = load_iris()\n",
        "X, y = iris.data, iris.target\n",
        "\n",
        "# Split into training and testing data (80% train, 20% test)\n",
        "X_train, X_test, y_train, y_test = train_test_split(X, y, test_size=0.2, random_state=42)\n",
        "\n",
        "# Initialize Decision Tree Classifier with Gini impurity criterion\n",
        "clf = DecisionTreeClassifier(criterion='gini', random_state=42)\n",
        "\n",
        "# Train the model\n",
        "clf.fit(X_train, y_train)\n",
        "\n",
        "# Print feature importances\n",
        "print(\"Feature Importances:\")\n",
        "for feature_name, importance in zip(iris.feature_names, clf.feature_importances_):\n",
        "    print(f\"{feature_name}: {importance:.4f}\")\n"
      ],
      "metadata": {
        "colab": {
          "base_uri": "https://localhost:8080/"
        },
        "id": "qMRCe_yIRmFa",
        "outputId": "84d71631-4646-4692-deaf-86faa1c2719b"
      },
      "execution_count": 27,
      "outputs": [
        {
          "output_type": "stream",
          "name": "stdout",
          "text": [
            "Feature Importances:\n",
            "sepal length (cm): 0.0000\n",
            "sepal width (cm): 0.0167\n",
            "petal length (cm): 0.9061\n",
            "petal width (cm): 0.0772\n"
          ]
        }
      ]
    },
    {
      "cell_type": "markdown",
      "source": [
        "**3. Write a Python program to train a Decision Tree Classifier using Entropy as the splitting criterion and print the model accuracy.**"
      ],
      "metadata": {
        "id": "SjixjIgwSa9c"
      }
    },
    {
      "cell_type": "code",
      "source": [
        "# Load the Iris dataset\n",
        "iris = load_iris()\n",
        "X, y = iris.data, iris.target\n",
        "\n",
        "# Split data into training and testing sets (80% train, 20% test)\n",
        "X_train, X_test, y_train, y_test = train_test_split(X, y, test_size=0.2, random_state=42)\n",
        "\n",
        "# Initialize Decision Tree Classifier with Entropy criterion\n",
        "clf = DecisionTreeClassifier(criterion='entropy', random_state=42)\n",
        "\n",
        "# Train the model\n",
        "clf.fit(X_train, y_train)\n",
        "\n",
        "# Predict on the test set\n",
        "y_pred = clf.predict(X_test)\n",
        "\n",
        "# Calculate and print accuracy\n",
        "accuracy = accuracy_score(y_test, y_pred)\n",
        "print(f\"Model Accuracy using Entropy: {accuracy:.2f}\")\n"
      ],
      "metadata": {
        "colab": {
          "base_uri": "https://localhost:8080/"
        },
        "id": "K3FKNmvTSRr4",
        "outputId": "05abe6be-4ac2-4bf7-e24c-4b394a1283b5"
      },
      "execution_count": 28,
      "outputs": [
        {
          "output_type": "stream",
          "name": "stdout",
          "text": [
            "Model Accuracy using Entropy: 1.00\n"
          ]
        }
      ]
    },
    {
      "cell_type": "markdown",
      "source": [
        "**4. Write a Python program to train a Decision Tree Regressor on a housing dataset and evaluate using Mean Squared Error (MSE).**"
      ],
      "metadata": {
        "id": "H6wWic6ISkJc"
      }
    },
    {
      "cell_type": "code",
      "source": [
        "from sklearn.metrics import mean_squared_error\n",
        "\n",
        "# Load California Housing dataset\n",
        "housing = fetch_california_housing()\n",
        "X, y = housing.data, housing.target\n",
        "\n",
        "# Split dataset into train and test sets (80% train, 20% test)\n",
        "X_train, X_test, y_train, y_test = train_test_split(X, y, test_size=0.2, random_state=42)\n",
        "\n",
        "# Initialize Decision Tree Regressor\n",
        "regressor = DecisionTreeRegressor(random_state=42)\n",
        "\n",
        "# Train the model\n",
        "regressor.fit(X_train, y_train)\n",
        "\n",
        "# Predict on the test set\n",
        "y_pred = regressor.predict(X_test)\n",
        "\n",
        "# Calculate Mean Squared Error\n",
        "mse = mean_squared_error(y_test, y_pred)\n",
        "print(f\"Mean Squared Error (MSE): {mse:.4f}\")\n"
      ],
      "metadata": {
        "colab": {
          "base_uri": "https://localhost:8080/"
        },
        "id": "jN1X_dDZSjC0",
        "outputId": "b790ba77-eb8f-4105-a503-299fe612de59"
      },
      "execution_count": 30,
      "outputs": [
        {
          "output_type": "stream",
          "name": "stdout",
          "text": [
            "Mean Squared Error (MSE): 0.4952\n"
          ]
        }
      ]
    },
    {
      "cell_type": "markdown",
      "source": [
        "**5. Write a Python program to train a Decision Tree Classifier and visualize the tree using graphviz.**"
      ],
      "metadata": {
        "id": "XSdyzEplSwi0"
      }
    },
    {
      "cell_type": "code",
      "source": [
        "from sklearn.tree import DecisionTreeClassifier, export_graphviz\n",
        "import graphviz\n",
        "\n",
        "# Load data\n",
        "iris = load_iris()\n",
        "X, y = iris.data, iris.target\n",
        "\n",
        "# Train Decision Tree Classifier\n",
        "clf = DecisionTreeClassifier(random_state=42)\n",
        "clf.fit(X, y)\n",
        "\n",
        "# Export the tree to DOT format\n",
        "dot_data = export_graphviz(\n",
        "    clf,\n",
        "    out_file=None,\n",
        "    feature_names=iris.feature_names,\n",
        "    class_names=iris.target_names,\n",
        "    filled=True,\n",
        "    rounded=True,\n",
        "    special_characters=True\n",
        ")\n",
        "\n",
        "# Render the tree using graphviz\n",
        "graph = graphviz.Source(dot_data)\n",
        "graph.render(\"iris_decision_tree\")  # Saves as iris_decision_tree.pdf\n",
        "graph.view()  # Opens the PDF viewer (optional)\n"
      ],
      "metadata": {
        "colab": {
          "base_uri": "https://localhost:8080/",
          "height": 36
        },
        "id": "uuAy35LzSswf",
        "outputId": "f8d22986-efc2-44e8-b512-ea8e50d1d22c"
      },
      "execution_count": 32,
      "outputs": [
        {
          "output_type": "execute_result",
          "data": {
            "text/plain": [
              "'iris_decision_tree.pdf'"
            ],
            "application/vnd.google.colaboratory.intrinsic+json": {
              "type": "string"
            }
          },
          "metadata": {},
          "execution_count": 32
        }
      ]
    },
    {
      "cell_type": "markdown",
      "source": [
        "**6. Write a Python program to train a Decision Tree Classifier with a maximum depth of 3 and compare its accuracy with a fully grown tree.**"
      ],
      "metadata": {
        "id": "iVb60nS9TJWs"
      }
    },
    {
      "cell_type": "code",
      "source": [
        "from sklearn.metrics import accuracy_score\n",
        "\n",
        "# Load Iris dataset\n",
        "iris = load_iris()\n",
        "X, y = iris.data, iris.target\n",
        "\n",
        "# Split into train and test (80% train, 20% test)\n",
        "X_train, X_test, y_train, y_test = train_test_split(X, y, test_size=0.2, random_state=42)\n",
        "\n",
        "# Decision Tree with max depth = 3\n",
        "clf_pruned = DecisionTreeClassifier(max_depth=3, random_state=42)\n",
        "clf_pruned.fit(X_train, y_train)\n",
        "y_pred_pruned = clf_pruned.predict(X_test)\n",
        "accuracy_pruned = accuracy_score(y_test, y_pred_pruned)\n",
        "\n",
        "# Fully grown Decision Tree (no max_depth)\n",
        "clf_full = DecisionTreeClassifier(random_state=42)\n",
        "clf_full.fit(X_train, y_train)\n",
        "y_pred_full = clf_full.predict(X_test)\n",
        "accuracy_full = accuracy_score(y_test, y_pred_full)\n",
        "\n",
        "# Print accuracies\n",
        "print(f\"Accuracy with max_depth=3: {accuracy_pruned:.2f}\")\n",
        "print(f\"Accuracy with fully grown tree: {accuracy_full:.2f}\")\n"
      ],
      "metadata": {
        "colab": {
          "base_uri": "https://localhost:8080/"
        },
        "id": "lvuyfGp0S5Mw",
        "outputId": "c5c1dc61-b197-4503-ad60-aa3f87d1ad31"
      },
      "execution_count": 33,
      "outputs": [
        {
          "output_type": "stream",
          "name": "stdout",
          "text": [
            "Accuracy with max_depth=3: 1.00\n",
            "Accuracy with fully grown tree: 1.00\n"
          ]
        }
      ]
    },
    {
      "cell_type": "markdown",
      "source": [
        "**7. Write a Python program to train a Decision Tree Classifier using min_samples_split=5 and compare its accuracy with a default tree.**"
      ],
      "metadata": {
        "id": "r5DEGylsTfI1"
      }
    },
    {
      "cell_type": "code",
      "source": [
        "# Load the Iris dataset\n",
        "iris = load_iris()\n",
        "X, y = iris.data, iris.target\n",
        "\n",
        "# Split into training and test sets (80% train, 20% test)\n",
        "X_train, X_test, y_train, y_test = train_test_split(X, y, test_size=0.2, random_state=42)\n",
        "\n",
        "# Decision Tree with min_samples_split=5\n",
        "clf_custom = DecisionTreeClassifier(min_samples_split=5, random_state=42)\n",
        "clf_custom.fit(X_train, y_train)\n",
        "y_pred_custom = clf_custom.predict(X_test)\n",
        "accuracy_custom = accuracy_score(y_test, y_pred_custom)\n",
        "\n",
        "# Decision Tree with default parameters\n",
        "clf_default = DecisionTreeClassifier(random_state=42)\n",
        "clf_default.fit(X_train, y_train)\n",
        "y_pred_default = clf_default.predict(X_test)\n",
        "accuracy_default = accuracy_score(y_test, y_pred_default)\n",
        "\n",
        "# Print the accuracies\n",
        "print(f\"Accuracy with min_samples_split=5: {accuracy_custom:.2f}\")\n",
        "print(f\"Accuracy with default min_samples_split: {accuracy_default:.2f}\")\n"
      ],
      "metadata": {
        "colab": {
          "base_uri": "https://localhost:8080/"
        },
        "id": "DYcwO-9fTdw1",
        "outputId": "8174bb7a-ae43-4503-848f-8ea98ae5c1d5"
      },
      "execution_count": 11,
      "outputs": [
        {
          "output_type": "stream",
          "name": "stdout",
          "text": [
            "Accuracy with min_samples_split=5: 1.00\n",
            "Accuracy with default min_samples_split: 1.00\n"
          ]
        }
      ]
    },
    {
      "cell_type": "markdown",
      "source": [
        "**8. Write a Python program to apply feature scaling before training a Decision Tree Classifier and compare its accuracy with unscaled data.**"
      ],
      "metadata": {
        "id": "S97bSPtUT4Uj"
      }
    },
    {
      "cell_type": "code",
      "source": [
        "from sklearn.preprocessing import StandardScaler\n",
        "\n",
        "# Load Iris dataset\n",
        "iris = load_iris()\n",
        "X, y = iris.data, iris.target\n",
        "\n",
        "# Split dataset\n",
        "X_train, X_test, y_train, y_test = train_test_split(X, y, test_size=0.2, random_state=42)\n",
        "\n",
        "# 1. Train without scaling\n",
        "clf_unscaled = DecisionTreeClassifier(random_state=42)\n",
        "clf_unscaled.fit(X_train, y_train)\n",
        "y_pred_unscaled = clf_unscaled.predict(X_test)\n",
        "accuracy_unscaled = accuracy_score(y_test, y_pred_unscaled)\n",
        "\n",
        "# 2. Apply feature scaling\n",
        "scaler = StandardScaler()\n",
        "X_train_scaled = scaler.fit_transform(X_train)\n",
        "X_test_scaled = scaler.transform(X_test)\n",
        "\n",
        "# Train on scaled data\n",
        "clf_scaled = DecisionTreeClassifier(random_state=42)\n",
        "clf_scaled.fit(X_train_scaled, y_train)\n",
        "y_pred_scaled = clf_scaled.predict(X_test_scaled)\n",
        "accuracy_scaled = accuracy_score(y_test, y_pred_scaled)\n",
        "\n",
        "print(f\"Accuracy without scaling: {accuracy_unscaled:.2f}\")\n",
        "print(f\"Accuracy with scaling: {accuracy_scaled:.2f}\")\n"
      ],
      "metadata": {
        "colab": {
          "base_uri": "https://localhost:8080/"
        },
        "id": "_jcrfKQPTsiH",
        "outputId": "95ec4ebf-b781-4c28-925d-c5fd434c0264"
      },
      "execution_count": 13,
      "outputs": [
        {
          "output_type": "stream",
          "name": "stdout",
          "text": [
            "Accuracy without scaling: 1.00\n",
            "Accuracy with scaling: 1.00\n"
          ]
        }
      ]
    },
    {
      "cell_type": "markdown",
      "source": [
        "**9. Write a Python program to train a Decision Tree Classifier using One-vs-Rest (OvR) strategy for multiclass classification.**"
      ],
      "metadata": {
        "id": "jMX_nDUlUPHc"
      }
    },
    {
      "cell_type": "code",
      "source": [
        "from sklearn.multiclass import OneVsRestClassifier\n",
        "\n",
        "# Load Iris dataset\n",
        "iris = load_iris()\n",
        "X, y = iris.data, iris.target\n",
        "\n",
        "# Split into train and test (80% train, 20% test)\n",
        "X_train, X_test, y_train, y_test = train_test_split(X, y, test_size=0.2, random_state=42)\n",
        "\n",
        "# Create a Decision Tree Classifier wrapped in OneVsRestClassifier\n",
        "ovr_clf = OneVsRestClassifier(DecisionTreeClassifier(random_state=42))\n",
        "\n",
        "# Train the model\n",
        "ovr_clf.fit(X_train, y_train)\n",
        "\n",
        "# Predict on test set\n",
        "y_pred = ovr_clf.predict(X_test)\n",
        "\n",
        "# Calculate accuracy\n",
        "accuracy = accuracy_score(y_test, y_pred)\n",
        "print(f\"One-vs-Rest Decision Tree Classifier Accuracy: {accuracy:.2f}\")"
      ],
      "metadata": {
        "colab": {
          "base_uri": "https://localhost:8080/"
        },
        "id": "HkWRF-V-UHgT",
        "outputId": "42e9ac73-ec4a-4aeb-d793-19cbdbafe94d"
      },
      "execution_count": 15,
      "outputs": [
        {
          "output_type": "stream",
          "name": "stdout",
          "text": [
            "One-vs-Rest Decision Tree Classifier Accuracy: 1.00\n"
          ]
        }
      ]
    },
    {
      "cell_type": "markdown",
      "source": [
        "**10. Write a Python program to train a Decision Tree Classifier and display the feature importance scores.**"
      ],
      "metadata": {
        "id": "KaTerBlUUkPs"
      }
    },
    {
      "cell_type": "code",
      "source": [
        "# Load the Iris dataset\n",
        "iris = load_iris()\n",
        "X, y = iris.data, iris.target\n",
        "\n",
        "# Split into training and test sets (80% train, 20% test)\n",
        "X_train, X_test, y_train, y_test = train_test_split(X, y, test_size=0.2, random_state=42)\n",
        "\n",
        "# Initialize and train the Decision Tree Classifier\n",
        "clf = DecisionTreeClassifier(random_state=42)\n",
        "clf.fit(X_train, y_train)\n",
        "\n",
        "# Display feature importance scores\n",
        "print(\"Feature Importance Scores:\")\n",
        "for feature_name, importance in zip(iris.feature_names, clf.feature_importances_):\n",
        "    print(f\"{feature_name}: {importance:.4f}\")"
      ],
      "metadata": {
        "colab": {
          "base_uri": "https://localhost:8080/"
        },
        "id": "vclBPvzwUY8A",
        "outputId": "afb492bd-18fe-4b62-af72-23566f39bf8a"
      },
      "execution_count": 16,
      "outputs": [
        {
          "output_type": "stream",
          "name": "stdout",
          "text": [
            "Feature Importance Scores:\n",
            "sepal length (cm): 0.0000\n",
            "sepal width (cm): 0.0167\n",
            "petal length (cm): 0.9061\n",
            "petal width (cm): 0.0772\n"
          ]
        }
      ]
    },
    {
      "cell_type": "markdown",
      "source": [
        "**11. Write a Python program to train a Decision Tree Regressor with max_depth=5 and compare its performance with an unrestricted tree.**"
      ],
      "metadata": {
        "id": "czPO9kEhUtkM"
      }
    },
    {
      "cell_type": "code",
      "source": [
        "from sklearn.tree import DecisionTreeRegressor\n",
        "from sklearn.datasets import fetch_california_housing\n",
        "\n",
        "# Load California Housing dataset\n",
        "housing = fetch_california_housing()\n",
        "X, y = housing.data, housing.target\n",
        "\n",
        "# Split into training and testing sets (80% train, 20% test)\n",
        "X_train, X_test, y_train, y_test = train_test_split(X, y, test_size=0.2, random_state=42)\n",
        "\n",
        "# Decision Tree Regressor with max_depth=5\n",
        "regressor_restricted = DecisionTreeRegressor(max_depth=5, random_state=42)\n",
        "regressor_restricted.fit(X_train, y_train)\n",
        "y_pred_restricted = regressor_restricted.predict(X_test)\n",
        "mse_restricted = mean_squared_error(y_test, y_pred_restricted)\n",
        "\n",
        "# Fully grown Decision Tree Regressor (no max_depth)\n",
        "regressor_full = DecisionTreeRegressor(random_state=42)\n",
        "regressor_full.fit(X_train, y_train)\n",
        "y_pred_full = regressor_full.predict(X_test)\n",
        "mse_full = mean_squared_error(y_test, y_pred_full)\n",
        "\n",
        "# Print Mean Squared Errors\n",
        "print(f\"MSE with max_depth=5: {mse_restricted:.4f}\")\n",
        "print(f\"MSE with fully grown tree: {mse_full:.4f}\")"
      ],
      "metadata": {
        "colab": {
          "base_uri": "https://localhost:8080/"
        },
        "id": "captsrpIUrGG",
        "outputId": "78e47fa6-ece6-4ee8-cfb1-4fb488031a0d"
      },
      "execution_count": 36,
      "outputs": [
        {
          "output_type": "stream",
          "name": "stdout",
          "text": [
            "MSE with max_depth=5: 0.5245\n",
            "MSE with fully grown tree: 0.4952\n"
          ]
        }
      ]
    },
    {
      "cell_type": "markdown",
      "source": [
        "**12. Write a Python program to train a Decision Tree Classifier, apply Cost Complexity Pruning (CCP), and visualize its effect on accuracy.**"
      ],
      "metadata": {
        "id": "IXvHdMb4U3rs"
      }
    },
    {
      "cell_type": "code",
      "source": [
        "import matplotlib.pyplot as plt\n",
        "\n",
        "# Load Iris dataset\n",
        "iris = load_iris()\n",
        "X, y = iris.data, iris.target\n",
        "\n",
        "# Split dataset (80% train, 20% test)\n",
        "X_train, X_test, y_train, y_test = train_test_split(X, y, test_size=0.2, random_state=42)\n",
        "\n",
        "# Train initial tree to get ccp_alphas for pruning path\n",
        "clf = DecisionTreeClassifier(random_state=42)\n",
        "clf.fit(X_train, y_train)\n",
        "\n",
        "path = clf.cost_complexity_pruning_path(X_train, y_train)\n",
        "ccp_alphas, impurities = path.ccp_alphas, path.impurities\n",
        "\n",
        "# Lists to store results\n",
        "clfs = []\n",
        "train_scores = []\n",
        "test_scores = []\n",
        "\n",
        "# Train trees for different ccp_alpha values\n",
        "for ccp_alpha in ccp_alphas:\n",
        "    clf_temp = DecisionTreeClassifier(random_state=42, ccp_alpha=ccp_alpha)\n",
        "    clf_temp.fit(X_train, y_train)\n",
        "    clfs.append(clf_temp)\n",
        "    train_scores.append(clf_temp.score(X_train, y_train))\n",
        "    test_scores.append(clf_temp.score(X_test, y_test))\n",
        "\n",
        "# Plot accuracy vs ccp_alpha\n",
        "plt.figure(figsize=(10,6))\n",
        "plt.plot(ccp_alphas, train_scores, marker='o', label='Train Accuracy')\n",
        "plt.plot(ccp_alphas, test_scores, marker='o', label='Test Accuracy')\n",
        "plt.xlabel('ccp_alpha (Pruning Parameter)')\n",
        "plt.ylabel('Accuracy')\n",
        "plt.title('Effect of Cost Complexity Pruning on Decision Tree Accuracy')\n",
        "plt.legend()\n",
        "plt.grid(True)\n",
        "plt.show()\n"
      ],
      "metadata": {
        "colab": {
          "base_uri": "https://localhost:8080/",
          "height": 564
        },
        "id": "xImcLeTkU08D",
        "outputId": "b9f9e891-de1b-4020-a56b-15495717b1b5"
      },
      "execution_count": 19,
      "outputs": [
        {
          "output_type": "display_data",
          "data": {
            "text/plain": [
              "<Figure size 1000x600 with 1 Axes>"
            ],
            "image/png": "[encoded data removed]"
          },
          "metadata": {}
        }
      ]
    },
    {
      "cell_type": "markdown",
      "source": [
        "**13. Write a Python program to train a Decision Tree Classifier and evaluate its performance using Precision, Recall, and F1-Score.**"
      ],
      "metadata": {
        "id": "EBWr1SJrVHBc"
      }
    },
    {
      "cell_type": "code",
      "source": [
        "from sklearn.metrics import precision_score, recall_score, f1_score, classification_report\n",
        "\n",
        "# Load Iris dataset\n",
        "iris = load_iris()\n",
        "X, y = iris.data, iris.target\n",
        "\n",
        "# Split dataset into training and testing sets (80% train, 20% test)\n",
        "X_train, X_test, y_train, y_test = train_test_split(X, y, test_size=0.2, random_state=42)\n",
        "\n",
        "# Initialize and train the Decision Tree Classifier\n",
        "clf = DecisionTreeClassifier(random_state=42)\n",
        "clf.fit(X_train, y_train)\n",
        "\n",
        "# Predict on test data\n",
        "y_pred = clf.predict(X_test)\n",
        "\n",
        "# Calculate Precision, Recall, and F1-Score for each class\n",
        "precision = precision_score(y_test, y_pred, average=None)\n",
        "recall = recall_score(y_test, y_pred, average=None)\n",
        "f1 = f1_score(y_test, y_pred, average=None)\n",
        "\n",
        "# Print the scores for each class\n",
        "for i, class_name in enumerate(iris.target_names):\n",
        "    print(f\"Class: {class_name}\")\n",
        "    print(f\" Precision: {precision[i]:.2f}\")\n",
        "    print(f\" Recall:    {recall[i]:.2f}\")\n",
        "    print(f\" F1-Score:  {f1[i]:.2f}\\n\")\n",
        "\n",
        "# Alternatively, print a full classification report\n",
        "print(\"Classification Report:\\n\")\n",
        "print(classification_report(y_test, y_pred, target_names=iris.target_names))\n"
      ],
      "metadata": {
        "colab": {
          "base_uri": "https://localhost:8080/"
        },
        "id": "upumzS1VVAmI",
        "outputId": "304d0b54-5ec4-4d20-cafb-ae73b5d9eba4"
      },
      "execution_count": 21,
      "outputs": [
        {
          "output_type": "stream",
          "name": "stdout",
          "text": [
            "Class: setosa\n",
            " Precision: 1.00\n",
            " Recall:    1.00\n",
            " F1-Score:  1.00\n",
            "\n",
            "Class: versicolor\n",
            " Precision: 1.00\n",
            " Recall:    1.00\n",
            " F1-Score:  1.00\n",
            "\n",
            "Class: virginica\n",
            " Precision: 1.00\n",
            " Recall:    1.00\n",
            " F1-Score:  1.00\n",
            "\n",
            "Classification Report:\n",
            "\n",
            "              precision    recall  f1-score   support\n",
            "\n",
            "      setosa       1.00      1.00      1.00        10\n",
            "  versicolor       1.00      1.00      1.00         9\n",
            "   virginica       1.00      1.00      1.00        11\n",
            "\n",
            "    accuracy                           1.00        30\n",
            "   macro avg       1.00      1.00      1.00        30\n",
            "weighted avg       1.00      1.00      1.00        30\n",
            "\n"
          ]
        }
      ]
    },
    {
      "cell_type": "markdown",
      "source": [
        "**14. Write a Python program to train a Decision Tree Classifier and visualize the confusion matrix using seaborn.**"
      ],
      "metadata": {
        "id": "rOEyep38ViiV"
      }
    },
    {
      "cell_type": "code",
      "source": [
        "import seaborn as sns\n",
        "from sklearn.metrics import confusion_matrix\n",
        "\n",
        "# Load Iris dataset\n",
        "iris = load_iris()\n",
        "X, y = iris.data, iris.target\n",
        "\n",
        "# Split into training and test sets (80% train, 20% test)\n",
        "X_train, X_test, y_train, y_test = train_test_split(X, y, test_size=0.2, random_state=42)\n",
        "\n",
        "# Train Decision Tree Classifier\n",
        "clf = DecisionTreeClassifier(random_state=42)\n",
        "clf.fit(X_train, y_train)\n",
        "\n",
        "# Predict on test data\n",
        "y_pred = clf.predict(X_test)\n",
        "\n",
        "# Compute confusion matrix\n",
        "cm = confusion_matrix(y_test, y_pred)\n",
        "\n",
        "# Plot confusion matrix using seaborn heatmap\n",
        "plt.figure(figsize=(7,5))\n",
        "sns.heatmap(cm, annot=True, fmt='d', cmap='Blues',\n",
        "            xticklabels=iris.target_names,\n",
        "            yticklabels=iris.target_names)\n",
        "plt.xlabel('Predicted Label')\n",
        "plt.ylabel('True Label')\n",
        "plt.title('Confusion Matrix - Decision Tree Classifier')\n",
        "plt.show()\n"
      ],
      "metadata": {
        "colab": {
          "base_uri": "https://localhost:8080/",
          "height": 487
        },
        "id": "xC-HGqHJVRGe",
        "outputId": "43f390f8-91ba-4a3c-aa9e-dcd4d4448482"
      },
      "execution_count": 23,
      "outputs": [
        {
          "output_type": "display_data",
          "data": {
            "text/plain": [
              "<Figure size 700x500 with 2 Axes>"
            ],
            "image/png": "[encoded data removed]"
          },
          "metadata": {}
        }
      ]
    },
    {
      "cell_type": "markdown",
      "source": [
        "**15. Write a Python program to train a Decision Tree Classifier and use GridSearchCV to find the optimal values for max_depth and min_samples_split.**"
      ],
      "metadata": {
        "id": "6U33X1LbVzMm"
      }
    },
    {
      "cell_type": "code",
      "source": [
        "\n",
        "# Load Iris dataset\n",
        "iris = load_iris()\n",
        "X, y = iris.data, iris.target\n",
        "\n",
        "# Split into training and test sets (80% train, 20% test)\n",
        "X_train, X_test, y_train, y_test = train_test_split(X, y, test_size=0.2, random_state=42)\n",
        "\n",
        "# Initialize Decision Tree Classifier\n",
        "clf = DecisionTreeClassifier(random_state=42)\n",
        "\n",
        "# Define the parameter grid to search\n",
        "param_grid = {\n",
        "    'max_depth': [2, 3, 4, 5, 6, None],\n",
        "    'min_samples_split': [2, 5, 10]\n",
        "}\n",
        "\n",
        "# Initialize GridSearchCV\n",
        "grid_search = GridSearchCV(estimator=clf, param_grid=param_grid, cv=5, scoring='accuracy')\n",
        "\n",
        "# Fit GridSearchCV\n",
        "grid_search.fit(X_train, y_train)\n",
        "\n",
        "# Best parameters and best score\n",
        "print(\"Best parameters found:\", grid_search.best_params_)\n",
        "print(f\"Best cross-validation accuracy: {grid_search.best_score_:.4f}\")\n",
        "\n",
        "# Evaluate on test set using best estimator\n",
        "best_clf = grid_search.best_estimator_\n",
        "test_accuracy = best_clf.score(X_test, y_test)\n",
        "print(f\"Test set accuracy with best parameters: {test_accuracy:.4f}\")\n"
      ],
      "metadata": {
        "colab": {
          "base_uri": "https://localhost:8080/"
        },
        "id": "QdY6kglDVsqo",
        "outputId": "1e6d85e7-41a3-42dc-952b-35359c5c169e"
      },
      "execution_count": 26,
      "outputs": [
        {
          "output_type": "stream",
          "name": "stdout",
          "text": [
            "Best parameters found: {'max_depth': 4, 'min_samples_split': 2}\n",
            "Best cross-validation accuracy: 0.9417\n",
            "Test set accuracy with best parameters: 1.0000\n"
          ]
        }
      ]
    }
  ]
}